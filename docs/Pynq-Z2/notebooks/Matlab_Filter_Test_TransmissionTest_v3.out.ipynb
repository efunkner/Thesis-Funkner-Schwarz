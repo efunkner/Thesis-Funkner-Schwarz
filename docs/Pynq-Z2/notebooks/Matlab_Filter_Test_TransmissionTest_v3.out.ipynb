{
  "cells": [
    {
      "cell_type": "markdown",
      "metadata": {},
      "source": [
        "#"
      ],
      "id": "9c0bf713-f572-4594-ab79-65cb7fbdc1d0"
    },
    {
      "cell_type": "code",
      "execution_count": 1,
      "metadata": {},
      "outputs": [
        {
          "output_type": "display_data",
          "metadata": {},
          "data": {
            "text/html": [
              "<script type=\"application/javascript\">\n",
              "\n",
              "try {\n",
              "require(['notebook/js/codecell'], function(codecell) {\n",
              "  codecell.CodeCell.options_default.highlight_modes[\n",
              "      'magic_text/x-csrc'] = {'reg':[/^%%microblaze/]};\n",
              "  Jupyter.notebook.events.one('kernel_ready.Kernel', function(){\n",
              "      Jupyter.notebook.get_cells().map(function(cell){\n",
              "          if (cell.cell_type == 'code'){ cell.auto_highlight(); } }) ;\n",
              "  });\n",
              "});\n",
              "} catch (e) {};\n",
              "\n",
              "</script>"
            ]
          }
        },
        {
          "output_type": "display_data",
          "metadata": {},
          "data": {
            "text/html": [
              "<script type=\"application/javascript\">\n",
              "\n",
              "try {\n",
              "require(['notebook/js/codecell'], function(codecell) {\n",
              "  codecell.CodeCell.options_default.highlight_modes[\n",
              "      'magic_text/x-csrc'] = {'reg':[/^%%pybind11/]};\n",
              "  Jupyter.notebook.events.one('kernel_ready.Kernel', function(){\n",
              "      Jupyter.notebook.get_cells().map(function(cell){\n",
              "          if (cell.cell_type == 'code'){ cell.auto_highlight(); } }) ;\n",
              "  });\n",
              "});\n",
              "} catch (e) {};\n",
              "\n",
              "</script>"
            ]
          }
        },
        {
          "output_type": "display_data",
          "metadata": {},
          "data": {
            "text/plain": [
              "dict_keys(['axi_dma_0', 'BiquadFil_ip_2_2_0', 'processing_system7_0'])"
            ]
          }
        }
      ],
      "source": [
        "import numpy as np\n",
        "from scipy.io import wavfile\n",
        "import matplotlib.pyplot as plt\n",
        "# Für Pynq\n",
        "from pynq import Overlay\n",
        "from pynq import allocate\n",
        "ol = Overlay(\"Matlab_Filter_v2_18_4.bit\")  # max output2^18, dma 2^26 (max), FilterOrder = 4 v.2.2\n",
        "# Check IP names\n",
        "ol.ip_dict.keys()"
      ],
      "id": "ae2fec64"
    },
    {
      "cell_type": "code",
      "execution_count": 2,
      "metadata": {},
      "outputs": [
        {
          "output_type": "stream",
          "name": "stdout",
          "text": [
            "Error:  False Idle:  False Running:  True\n",
            "Error:  False Idle:  False Running:  True"
          ]
        }
      ],
      "source": [
        "# Zuweisung für dma\n",
        "dma = ol.axi_dma_0\n",
        "dma_send = ol.axi_dma_0.sendchannel\n",
        "dma_recv = ol.axi_dma_0.recvchannel\n",
        "# check status\n",
        "print(\"Error: \", dma_recv.error, \"Idle: \", dma_recv.idle, \"Running: \", dma_recv.running)\n",
        "print(\"Error: \", dma_send.error, \"Idle: \", dma_send.idle, \"Running: \", dma_send.running)"
      ],
      "id": "86ec5a38"
    },
    {
      "cell_type": "code",
      "execution_count": 3,
      "metadata": {},
      "outputs": [],
      "source": [
        "# Funktionen\n",
        "def FormatChange(x):\n",
        "    x = x * (2**15)                            # Skalieren auf Q16.16 Bereich (optional leicht unter max)\n",
        "    x = x.astype(np.int32)                     # Als 32-Bit Integer interpretieren\n",
        "    input_data = x.view(np.uint32)             # Für DMA als unsigned darstellen\n",
        "    return input_data\n",
        "\n",
        "def Transmission(input_data,ip_buffer):\n",
        "    # Festlegen der Größen\n",
        "    buffer_size = int(ip_buffer)\n",
        "    print(\"Buffer Size: \", buffer_size)\n",
        "    input_data = FormatChange(input_data)\n",
        "    data_size = int(len(input_data))\n",
        "    \n",
        "    # Padding\n",
        "    pad = np.zeros(ip_buffer)\n",
        "    pad_frame = FormatChange(pad)\n",
        "    print('Frame Length: ', len(pad_frame),' / ', 'Frame Type: ', type(pad_frame))\n",
        "    # Leere Buffer\n",
        "    input_buffer = allocate(shape=(buffer_size,), dtype=np.uint32)\n",
        "    output_buffer = allocate(shape=(buffer_size,), dtype=np.uint32)\n",
        "    \n",
        "    # Padding Inputbuffer\n",
        "    input_buffer[:] = pad_frame\n",
        "    \n",
        "    # Laden der Daten in Inputbuffer\n",
        "    input_buffer[: data_size] = input_data\n",
        "    print('Input Buffer: ', input_buffer[: data_size])\n",
        "    \n",
        "    # Senden un Empfangen der Daten\n",
        "    dma.sendchannel.transfer(input_buffer)\n",
        "    dma.recvchannel.transfer(output_buffer)\n",
        "    dma.sendchannel.wait()\n",
        "    dma.recvchannel.wait()\n",
        "    \n",
        "    # check status\n",
        "    #print(\"Recv Status: \",\"Error: \", dma_recv.error, \"Idle: \", dma_recv.idle, \"Running: \", dma_recv.running)\n",
        "    #print(\"Send Status: \",\"Error: \", dma_send.error, \"Idle: \", dma_send.idle, \"Running: \", dma_send.running)\n",
        "    \n",
        "    print('Output Buffer: ', output_buffer[: data_size])\n",
        "    \n",
        "    # Check for Error\n",
        "    if dma_recv.error == False and dma_send.error == False:\n",
        "        print('Transmission successful')\n",
        "    elif dma_recv.error == True or dma_send.error == True:\n",
        "        print('Error in Transmission!')\n",
        "    \n",
        "    # Umrechnen der Empfangenen Daten\n",
        "    output_data = np.array(output_buffer[: data_size]).view(np.int32)  # zurück zu signed int32\n",
        "    # output_data = np.array(output_buffer).view(np.int32)  Test des Kompletten Frame\n",
        "    y = output_data / (2**15)\n",
        "    \n",
        "    # Buffer leeren\n",
        "    del input_buffer, output_buffer\n",
        "    \n",
        "    return y"
      ],
      "id": "5a5ad0c5"
    },
    {
      "cell_type": "code",
      "execution_count": 4,
      "metadata": {},
      "outputs": [
        {
          "output_type": "stream",
          "name": "stdout",
          "text": [
            "44100 44100 <class 'numpy.ndarray'>"
          ]
        },
        {
          "output_type": "display_data",
          "metadata": {},
          "data": {
            "image/png": "[encoded data removed]"
          }
        }
      ],
      "source": [
        "# Generierung Test Signals\n",
        "sampleRate = 44100\n",
        "T = 1\n",
        "t = np.linspace(0,T,int(sampleRate*T))\n",
        "x = np.sin(1000 * 2 * np.pi * t) + np.sin(100 * 2 * np.pi * t)\n",
        "\n",
        "print(len(t), len(x), type(x))\n",
        "plt.plot(t,x)\n",
        "plt.xlabel(\"Zeit [s]\")\n",
        "plt.ylabel(\"Amplitude\")\n",
        "plt.grid(True)\n",
        "plt.show()\n"
      ],
      "id": "f8a124fe"
    },
    {
      "cell_type": "code",
      "execution_count": 5,
      "metadata": {},
      "outputs": [
        {
          "output_type": "stream",
          "name": "stdout",
          "text": [
            "Buffer Size:  262144\n",
            "Frame Length:  262144  /  Frame Type:  <class 'numpy.ndarray'>\n",
            "Input Buffer:  [         0       5119      10145 ... 4294957151 4294962177          0]\n",
            "Output Buffer:  [    0  4383  8331 ...  9809 13916 17740]\n",
            "Transmission successful"
          ]
        }
      ],
      "source": [
        "ip_buffer = 2**18\n",
        "Data_In = x\n",
        "Data_out = Transmission(Data_In,ip_buffer)"
      ],
      "id": "4a7c5c6d"
    },
    {
      "cell_type": "code",
      "execution_count": 6,
      "metadata": {},
      "outputs": [
        {
          "output_type": "stream",
          "name": "stdout",
          "text": [
            "44100"
          ]
        },
        {
          "output_type": "display_data",
          "metadata": {},
          "data": {
            "image/png": "[encoded data removed]"
          }
        }
      ],
      "source": [
        "# Empfangene Daten plotten\n",
        "y = Data_out\n",
        "print(len(y))\n",
        "plt.plot(t,y)\n",
        "plt.xlabel(\"Zeit [s]\")\n",
        "plt.ylabel(\"Amplitude\")\n",
        "plt.grid(True)\n",
        "plt.show()"
      ],
      "id": "77c36dde"
    },
    {
      "cell_type": "code",
      "execution_count": 7,
      "metadata": {},
      "outputs": [
        {
          "output_type": "stream",
          "name": "stdout",
          "text": [
            "Recv Status:  Error:  False Idle:  True Running:  True\n",
            "Send Status:  Error:  False Idle:  True Running:  True"
          ]
        }
      ],
      "source": [
        "# check status\n",
        "print(\"Recv Status: \",\"Error: \", dma_recv.error, \"Idle: \", dma_recv.idle, \"Running: \", dma_recv.running)\n",
        "print(\"Send Status: \",\"Error: \", dma_send.error, \"Idle: \", dma_send.idle, \"Running: \", dma_send.running)"
      ],
      "id": "fecf9bb3"
    }
  ],
  "nbformat": 4,
  "nbformat_minor": 5,
  "metadata": {
    "kernelspec": {
      "name": "python3",
      "display_name": "Python 3 (ipykernel)",
      "language": "python"
    },
    "language_info": {
      "name": "python",
      "codemirror_mode": {
        "name": "ipython",
        "version": "3"
      },
      "file_extension": ".py",
      "mimetype": "text/x-python",
      "nbconvert_exporter": "python",
      "pygments_lexer": "ipython3",
      "version": "3.10.4"
    }
  }
}