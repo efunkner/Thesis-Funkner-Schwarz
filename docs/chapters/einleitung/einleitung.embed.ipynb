{
 "cells": [
  {
   "cell_type": "markdown",
   "metadata": {},
   "source": [
    "# \n",
    "\n",
    "## Einführung\n",
    "\n",
    "Diese Bachlorthesis dient als eine Lerndemonstration zur Implentierung von digitalen biquadratischen-Filtern auf Mikrocontrollern sowie FPGAs. Im Umfang dieser Demonstration werden digitale Biquad-Filter entworfen und auf einem ESP Lyrat V4.3 sowie einem PYNQZ2 implementiert. Die Filter werden mittels Matlab- sowie Pythontools entworfen."
   ],
   "id": "09622846-b4bb-4f89-b887-3bda3a6b5e82"
  }
 ],
 "nbformat": 4,
 "nbformat_minor": 5,
 "metadata": {}
}
