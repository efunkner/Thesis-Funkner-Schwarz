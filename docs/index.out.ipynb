{
 "cells": [
  {
   "cell_type": "markdown",
   "metadata": {},
   "source": [
    "# Lehrdemonstrationen zur digitalen Filterung auf eingebetteten Systemen\n",
    "\n",
    "Eduard Funkner ([Hochschule Bremen - City University of Applied Sciences (HSB)](https://www.hs-bremen.de))  \n",
    "Martin Schwarz13. Juni 2025\n",
    "\n",
    "# Einführung\n",
    "\n",
    "Diese Bachlorthesis dient als eine Lerndemonstration zur Implentierung von digitalen Filtern auf Mikrocontrollern sowie FPGAs.\n",
    "\n",
    "# IIR - Filter zweiter Ordnung (Biquadratische Filter)\n",
    "\n",
    "$$\n",
    "H(z) = \\frac{Y(z)}{X(z)} = \\frac{\\sum_{k=0}^{M} b_k z^{-k}}{1 + \\sum_{k=1}^{N} a_k z^{-k}}\n",
    "$$\n",
    "\n",
    "------------------------------------------------------------------------\n",
    "\n",
    "### 💡 Gleichung 4: Zustandsform / Direktform II (transponiert)"
   ],
   "id": "a566be1c-614d-4b1c-a53e-3d71fb034d3a"
  },
  {
   "cell_type": "raw",
   "metadata": {
    "raw_mimetype": "tex"
   },
   "source": [
    "\\begin{aligned}\n",
    "w[n] &= x[n] - a_1 w[n-1] - a_2 w[n-2] \\\\\n",
    "y[n] &= b_0 w[n] + b_1 w[n-1] + b_2 w[n-2]\n",
    "\\end{aligned}"
   ],
   "id": "39d6182a-c072-48dd-8c01-7e4ef8a052fd"
  },
  {
   "cell_type": "markdown",
   "metadata": {},
   "source": [
    "# Bilineartransformation\n",
    "\n",
    "Mittels der Bilineartransformation ist es möglich einen bestehenden analogen Filter, anhand seiner Übertragungsfunktion zu digitalisieren.Die analogen Biquad Filter werden aus dem Expirement 4 des Analog Systems Lab Kit PRO entnommen."
   ],
   "id": "a74c4852-84f1-4d41-b2b6-325acc88280a"
  }
 ],
 "nbformat": 4,
 "nbformat_minor": 5,
 "metadata": {}
}
