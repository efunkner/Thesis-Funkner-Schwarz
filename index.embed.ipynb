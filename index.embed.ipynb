{
 "cells": [
  {
   "cell_type": "markdown",
   "metadata": {},
   "source": [
    "# Lehrdemonstrationen zur digitalen Filterung auf eingebetteten Systemen\n",
    "\n",
    "Eduard Funkner ([Hochschule Bremen - City University of Applied Sciences (HSB)](https://www.hs-bremen.de))  \n",
    "Martin Schwarz13. Juni 2025\n",
    "\n",
    "# Einführung\n",
    "\n",
    "Diese Bachlorthesis dient als eine Lerndemonstration zur Implentierung von digitalen Filtern auf Mikrocontrollern sowie FPGAs.\n",
    "\n",
    "# IIR - Filter zweiter Ordnung (Biquadratische Filter)\n",
    "\n",
    "$$\n",
    "H(z) = \\frac{Y(z)}{X(z)} = \\frac{\\sum_{k=0}^{M} b_k z^{-k}}{1 + \\sum_{k=1}^{N} a_k z^{-k}}\n",
    "$$\n",
    "\n",
    "------------------------------------------------------------------------\n",
    "\n",
    "### 💡 Gleichung 4: Zustandsform / Direktform II (transponiert)"
   ],
   "id": "bb3dda9b-0336-45eb-b694-5028cc172307"
  },
  {
   "cell_type": "raw",
   "metadata": {
    "raw_mimetype": "tex"
   },
   "source": [
    "\\begin{aligned}\n",
    "w[n] &= x[n] - a_1 w[n-1] - a_2 w[n-2] \\\\\n",
    "y[n] &= b_0 w[n] + b_1 w[n-1] + b_2 w[n-2]\n",
    "\\end{aligned}"
   ],
   "id": "4f2bf30f-4b5f-4c3d-901c-f2b568825ce4"
  },
  {
   "cell_type": "markdown",
   "metadata": {},
   "source": [
    "# Bilineartransformation\n",
    "\n",
    "Mittels der Bilineartransformation ist es möglich einen bestehenden analogen Filter, anhand seiner Übertragungsfunktion zu digitalisieren.Die analogen Biquad Filter werden aus dem Expirement 4 des Analog Systems Lab Kit PRO entnommen."
   ],
   "id": "c8a40806-35f9-4b02-b108-65090f8fa9cf"
  }
 ],
 "nbformat": 4,
 "nbformat_minor": 5,
 "metadata": {}
}
