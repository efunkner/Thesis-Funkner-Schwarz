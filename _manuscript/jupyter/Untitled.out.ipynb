{
  "cells": [
    {
      "cell_type": "markdown",
      "metadata": {},
      "source": [
        "#"
      ],
      "id": "b5fa600f-767e-4452-bd5f-e7af74b30333"
    },
    {
      "cell_type": "code",
      "execution_count": 27,
      "metadata": {},
      "outputs": [],
      "source": [],
      "id": "0062a9a4-5c10-44d1-a92e-f73e0d6523c4"
    }
  ],
  "nbformat": 4,
  "nbformat_minor": 5,
  "metadata": {
    "kernelspec": {
      "name": "conda-base-py",
      "display_name": "Python [conda env:base] *",
      "language": "python"
    },
    "language_info": {
      "name": "python",
      "codemirror_mode": {
        "name": "ipython",
        "version": "3"
      },
      "file_extension": ".py",
      "mimetype": "text/x-python",
      "nbconvert_exporter": "python",
      "pygments_lexer": "ipython3",
      "version": "3.12.2"
    },
    "panel-cell-order": [
      "4ca8e6d3-596d-4c0f-ba8e-9679c35f6cae",
      "bf05ff1b-a8d4-4dfc-95f7-91a171f481d0"
    ]
  }
}