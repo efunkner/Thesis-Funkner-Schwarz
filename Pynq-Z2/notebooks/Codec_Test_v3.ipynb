{
 "cells": [
  {
   "cell_type": "code",
   "execution_count": 1,
   "id": "c47e3309",
   "metadata": {},
   "outputs": [
    {
     "data": {
      "application/javascript": [
       "\n",
       "try {\n",
       "require(['notebook/js/codecell'], function(codecell) {\n",
       "  codecell.CodeCell.options_default.highlight_modes[\n",
       "      'magic_text/x-csrc'] = {'reg':[/^%%microblaze/]};\n",
       "  Jupyter.notebook.events.one('kernel_ready.Kernel', function(){\n",
       "      Jupyter.notebook.get_cells().map(function(cell){\n",
       "          if (cell.cell_type == 'code'){ cell.auto_highlight(); } }) ;\n",
       "  });\n",
       "});\n",
       "} catch (e) {};\n"
      ]
     },
     "metadata": {},
     "output_type": "display_data"
    },
    {
     "data": {
      "application/javascript": [
       "\n",
       "try {\n",
       "require(['notebook/js/codecell'], function(codecell) {\n",
       "  codecell.CodeCell.options_default.highlight_modes[\n",
       "      'magic_text/x-csrc'] = {'reg':[/^%%pybind11/]};\n",
       "  Jupyter.notebook.events.one('kernel_ready.Kernel', function(){\n",
       "      Jupyter.notebook.get_cells().map(function(cell){\n",
       "          if (cell.cell_type == 'code'){ cell.auto_highlight(); } }) ;\n",
       "  });\n",
       "});\n",
       "} catch (e) {};\n"
      ]
     },
     "metadata": {},
     "output_type": "display_data"
    }
   ],
   "source": [
    "import numpy as np\n",
    "from scipy.io import wavfile\n",
    "import matplotlib.pyplot as plt\n",
    "\n",
    "# pynq Overlay\n",
    "from pynq import Overlay\n",
    "\n",
    "# audio Codec driver module\n",
    "from pynq.lib.audio import AudioADAU1761"
   ]
  },
  {
   "cell_type": "code",
   "execution_count": 2,
   "id": "df0a6365",
   "metadata": {},
   "outputs": [
    {
     "data": {
      "text/plain": [
       "dict_keys(['audio_codec_ctrl_0', 'i2s_receiver_0', 'i2s_transmitter_0', 'processing_system7_0'])"
      ]
     },
     "execution_count": 2,
     "metadata": {},
     "output_type": "execute_result"
    }
   ],
   "source": [
    "# overlay laden\n",
    "ol = Overlay(\"audio_test_v2_HP_Filter.bit\")\n",
    "# Check IP names\n",
    "ol.ip_dict.keys()"
   ]
  },
  {
   "cell_type": "markdown",
   "id": "046041d3",
   "metadata": {},
   "source": [
    "### Notizen\n",
    "Design funktioniert nicht <br>\n",
    ".bypass funktioniert aber auch nicht -> PL wird also nicht umgangen <br>\n",
    "Codec wird wahrscheinlich richtig init, fefehle Funktionieren, keine Fehlermeldungen <br>\n",
    "-> buffer bleibt Leer -> Filter entfernt <br>\n",
    "-> buffer voll 16777215 (Hex: 0xFFFFFF) -> Filter hat Funktioniert => Filter war nicht problem <br>\n",
    "-> receiver und transmitetr **vor** dem codec_controller verschalten\n",
    "\n",
    "### Pot Ursachen\n",
    "I2S Transmitter / receiver falsch Konfig <br>\n",
    "Clocksignale: AXI-Stream 50MHz aber I2S nur 10MHz <br>\n",
    "codec_addr: irgendwas damit "
   ]
  },
  {
   "cell_type": "code",
   "execution_count": 3,
   "id": "7d04da54",
   "metadata": {},
   "outputs": [
    {
     "name": "stdout",
     "output_type": "stream",
     "text": [
      "uio0 → audio-codec-ctrl\n",
      "uio1 → fabric\n"
     ]
    }
   ],
   "source": [
    "import os\n",
    "for i in range(4):  # prüfe /dev/uio0 bis /dev/uio3\n",
    "    try:\n",
    "        with open(f\"/sys/class/uio/uio{i}/name\", \"r\") as f:\n",
    "            name = f.read().strip()\n",
    "            print(f\"uio{i} → {name}\")\n",
    "    except FileNotFoundError:\n",
    "        continue"
   ]
  },
  {
   "cell_type": "code",
   "execution_count": 4,
   "id": "68f6115d",
   "metadata": {},
   "outputs": [],
   "source": [
    "# Bezeichnung des Audio Codec Kontrollers\n",
    "audio_description = ol.ip_dict['audio_codec_ctrl_0']\n",
    "# Übergabe der Bezeichnung an Treiber\n",
    "pAudio = a = AudioADAU1761(audio_description)\n",
    "# Eintellen des Audiotreibers\n",
    "pAudio.configure(sample_rate=48000, iic_index=1, uio_name='audio-codec-ctrl')"
   ]
  },
  {
   "cell_type": "code",
   "execution_count": 5,
   "id": "7a96d788",
   "metadata": {},
   "outputs": [],
   "source": [
    "# einstellen der Lautsärke\n",
    "pAudio.set_volume(60)\n",
    "\n",
    "# Einstellen eingang: LineIn\n",
    "pAudio.select_line_in()\n",
    "\n",
    "# Einstellen eingang: HP/MIC\n",
    "# pAudio.select_microphone()"
   ]
  },
  {
   "cell_type": "code",
   "execution_count": 26,
   "id": "6428770d",
   "metadata": {},
   "outputs": [],
   "source": [
    "# Echtzeitausgabe\n",
    "Time = 20\n",
    "pAudio.bypass(seconds=Time)"
   ]
  },
  {
   "cell_type": "code",
   "execution_count": 6,
   "id": "219c666d",
   "metadata": {},
   "outputs": [],
   "source": [
    "# Aufnahme\n",
    "recTime = 10\n",
    "pAudio.record(recTime)"
   ]
  },
  {
   "cell_type": "code",
   "execution_count": 7,
   "id": "fc24def5",
   "metadata": {},
   "outputs": [
    {
     "name": "stdout",
     "output_type": "stream",
     "text": [
      "[16777215 16777215 16777215 ... 16777215 16777215 16777215] <class 'numpy.ndarray'>\n"
     ]
    }
   ],
   "source": [
    "# in pAudio.buffer werden die aufnahmen gespreichert\n",
    "print(pAudio.buffer, type(pAudio.buffer))"
   ]
  },
  {
   "cell_type": "code",
   "execution_count": 8,
   "id": "58b72efa",
   "metadata": {},
   "outputs": [],
   "source": [
    "# Buffer ausspielen\n",
    "pAudio.play()"
   ]
  },
  {
   "cell_type": "code",
   "execution_count": 16,
   "id": "8c4ab9d8",
   "metadata": {},
   "outputs": [],
   "source": [
    "# Echtzeitausgabe\n",
    "Time = 5\n",
    "pAudio.bypass(seconds=Time)"
   ]
  }
 ],
 "metadata": {
  "kernelspec": {
   "display_name": "Python 3 (ipykernel)",
   "language": "python",
   "name": "python3"
  },
  "language_info": {
   "codemirror_mode": {
    "name": "ipython",
    "version": 3
   },
   "file_extension": ".py",
   "mimetype": "text/x-python",
   "name": "python",
   "nbconvert_exporter": "python",
   "pygments_lexer": "ipython3",
   "version": "3.10.4"
  }
 },
 "nbformat": 4,
 "nbformat_minor": 5
}
