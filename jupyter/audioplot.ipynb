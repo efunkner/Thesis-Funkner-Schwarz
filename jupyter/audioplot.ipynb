{
 "cells": [
  {
   "cell_type": "code",
   "execution_count": null,
   "id": "a3277852-6b04-426e-b5ca-b5b879d9720b",
   "metadata": {},
   "outputs": [
    {
     "name": "stdout",
     "output_type": "stream",
     "text": [
      "Stream gestartet\n"
     ]
    }
   ],
   "source": [
    "import numpy as np\n",
    "import matplotlib.pyplot as plt\n",
    "import serial\n",
    "import time\n",
    "from tkinter import TclError\n",
    "\n",
    "# für JupyterLab (Widget-Backend)\n",
    "%matplotlib tk\n",
    "\n",
    "# Konstanten\n",
    "CHUNK = 1024          # kleinere Puffergröße, schnellere Updates\n",
    "SERIAL_PORT = '/dev/ttyUSB0'  # evtl. anpassen\n",
    "BAUDRATE = 1000000\n",
    "\n",
    "# Serielle Verbindung öffnen\n",
    "ser = serial.Serial(SERIAL_PORT, BAUDRATE)\n",
    "\n",
    "# Matplotlib-Plot vorbereiten\n",
    "fig, ax = plt.subplots(figsize=(10, 5))\n",
    "x = np.arange(0, CHUNK)\n",
    "data_np = np.zeros(CHUNK)\n",
    "line, = ax.plot(x, data_np, '-', lw=2)\n",
    "ax.set_title('Live Serial Data')\n",
    "ax.set_xlabel('Samples')\n",
    "ax.set_ylabel('Amplitude')\n",
    "ax.set_ylim(-10000, 10000)\n",
    "ax.set_xlim(0, CHUNK)\n",
    "plt.show()\n",
    "\n",
    "print('Stream gestartet')\n",
    "\n",
    "# Frame-Rate messen\n",
    "frame_count = 0\n",
    "start_time = time.time()\n",
    "\n",
    "# Hilfspuffer\n",
    "index = 0\n",
    "\n",
    "try:\n",
    "    while True:\n",
    "        # Zeile lesen\n",
    "        raw_line = ser.readline().decode('utf-8').strip()\n",
    "        \n",
    "        if raw_line:\n",
    "            try:\n",
    "                value = float(raw_line.split(',')[0])  # Nur ersten Wert verwenden\n",
    "                data_np[index] = value\n",
    "                index += 1\n",
    "\n",
    "                if index >= CHUNK:\n",
    "                    # Update Plot\n",
    "                    line.set_ydata(data_np)\n",
    "                    fig.canvas.draw_idle()\n",
    "                    fig.canvas.flush_events()\n",
    "                    \n",
    "                    index = 0  # Reset\n",
    "                    frame_count += 1\n",
    "\n",
    "            except ValueError:\n",
    "                pass\n",
    "\n",
    "except (KeyboardInterrupt, TclError):\n",
    "    frame_rate = frame_count / (time.time() - start_time)\n",
    "    print('\\nStream gestoppt')\n",
    "    print('Durchschnittliche Framerate: {:.0f} FPS'.format(frame_rate))\n",
    "\n",
    "finally:\n",
    "    ser.close()"
   ]
  }
 ],
 "metadata": {
  "kernelspec": {
   "display_name": "Python [conda env:base] *",
   "language": "python",
   "name": "conda-base-py"
  },
  "language_info": {
   "codemirror_mode": {
    "name": "ipython",
    "version": 3
   },
   "file_extension": ".py",
   "mimetype": "text/x-python",
   "name": "python",
   "nbconvert_exporter": "python",
   "pygments_lexer": "ipython3",
   "version": "3.12.2"
  },
  "panel-cell-order": [
   "4ca8e6d3-596d-4c0f-ba8e-9679c35f6cae",
   "bf05ff1b-a8d4-4dfc-95f7-91a171f481d0"
  ]
 },
 "nbformat": 4,
 "nbformat_minor": 5
}
