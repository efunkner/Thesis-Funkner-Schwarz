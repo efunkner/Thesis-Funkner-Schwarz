{
 "cells": [
  {
   "cell_type": "code",
   "execution_count": null,
   "id": "1ee960f1-56f5-48ab-8f63-0f8177855ed9",
   "metadata": {},
   "outputs": [],
   "source": [
    "import serial\n",
    "import matplotlib.pyplot as plt\n",
    "import matplotlib.animation as animation\n",
    "from collections import deque\n",
    "\n",
    "# Konfiguration\n",
    "SERIAL_PORT = '/dev/ttyUSB0'  # oder '/dev/ttyUSB0' für Linux/macOS\n",
    "BAUDRATE = 2000000\n",
    "MAX_POINTS = 200  # Anzahl der Punkte im Plot\n",
    "\n",
    "# Datenpuffer (für 2 Kanäle)\n",
    "ch1_data = deque([0]*MAX_POINTS, maxlen=MAX_POINTS)\n",
    "ch2_data = deque([0]*MAX_POINTS, maxlen=MAX_POINTS)\n",
    "\n",
    "# Serial-Verbindung öffnen\n",
    "ser = serial.Serial(SERIAL_PORT, BAUDRATE)\n",
    "\n",
    "# Matplotlib-Setup\n",
    "fig, ax = plt.subplots()\n",
    "line1, = ax.plot([], [], label='Channel 1')\n",
    "line2, = ax.plot([], [], label='Channel 2')\n",
    "ax.set_ylim(-32768, 32767)  # 16-bit Audio\n",
    "ax.set_xlim(0, MAX_POINTS)\n",
    "ax.legend()\n",
    "ax.set_title(\"Echtzeit Audio-Daten\")\n",
    "ax.set_xlabel(\"Zeit\")\n",
    "ax.set_ylabel(\"Amplitude\")\n",
    "\n",
    "def update(frame):\n",
    "    while ser.in_waiting:\n",
    "        try:\n",
    "            line = ser.readline().decode('utf-8').strip()\n",
    "            values = list(map(int, line.split(',')))\n",
    "            if len(values) == 2:\n",
    "                ch1_data.append(values[0])\n",
    "                ch2_data.append(values[1])\n",
    "        except Exception as e:\n",
    "            print(\"Fehler beim Parsen:\", e)\n",
    "    \n",
    "    line1.set_data(range(len(ch1_data)), ch1_data)\n",
    "    line2.set_data(range(len(ch2_data)), ch2_data)\n",
    "    return line1, line2\n",
    "\n",
    "ani = animation.FuncAnimation(fig, update, interval=10, blit=True)\n",
    "plt.show()\n"
   ]
  }
 ],
 "metadata": {
  "kernelspec": {
   "display_name": "Python [conda env:base] *",
   "language": "python",
   "name": "conda-base-py"
  },
  "language_info": {
   "codemirror_mode": {
    "name": "ipython",
    "version": 3
   },
   "file_extension": ".py",
   "mimetype": "text/x-python",
   "name": "python",
   "nbconvert_exporter": "python",
   "pygments_lexer": "ipython3",
   "version": "3.12.2"
  }
 },
 "nbformat": 4,
 "nbformat_minor": 5
}
