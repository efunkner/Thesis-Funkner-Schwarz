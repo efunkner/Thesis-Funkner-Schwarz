{
 "cells": [
  {
   "cell_type": "code",
   "execution_count": 1,
   "id": "8776d5b1-6fc6-4e65-ac81-f7f86deec76e",
   "metadata": {},
   "outputs": [
    {
     "name": "stdout",
     "output_type": "stream",
     "text": [
      "Connected to /dev/ttyUSB0 at 115200 baud.\n",
      "Samples received in last second: 1034\n",
      "Samples received in last second: 1035\n",
      "Samples received in last second: 1044\n",
      "Samples received in last second: 1038\n",
      "Samples received in last second: 1040\n",
      "Samples received in last second: 1033\n",
      "Samples received in last second: 1045\n",
      "Samples received in last second: 1038\n",
      "Samples received in last second: 1034\n",
      "Samples received in last second: 1035\n",
      "Samples received in last second: 1041\n",
      "Samples received in last second: 1033\n",
      "Samples received in last second: 1038\n",
      "Samples received in last second: 1034\n",
      "Samples received in last second: 1042\n",
      "Samples received in last second: 1037\n",
      "Samples received in last second: 1036\n",
      "Samples received in last second: 1034\n",
      "Samples received in last second: 1035\n",
      "Samples received in last second: 1038\n",
      "Samples received in last second: 1038\n",
      "\n",
      "Stopped by user.\n"
     ]
    }
   ],
   "source": [
    "import serial\n",
    "import time\n",
    "\n",
    "PORT = '/dev/ttyUSB0'\n",
    "BAUDRATE = 115200\n",
    "TIMEOUT = 1\n",
    "\n",
    "ser = serial.Serial(PORT, baudrate=BAUDRATE, timeout=TIMEOUT)\n",
    "\n",
    "sample_count = 0\n",
    "start_time = time.time()\n",
    "\n",
    "try:\n",
    "    while True:\n",
    "        line = ser.readline()\n",
    "        if line:\n",
    "            sample_count += 1\n",
    "        \n",
    "        elapsed = time.time() - start_time\n",
    "        if elapsed >= 1.0:\n",
    "            print(f\"Anzahl der Samples pro Sekunde: {sample_count}\")\n",
    "            sample_count = 0\n",
    "            start_time = time.time()\n",
    "\n",
    "except KeyboardInterrupt:\n",
    "    print(\"\\nStop\")\n",
    "finally:\n",
    "    ser.close()"
   ]
  },
  {
   "cell_type": "code",
   "execution_count": null,
   "id": "ac027411-f728-43e0-95f6-de9e2b671245",
   "metadata": {},
   "outputs": [],
   "source": []
  }
 ],
 "metadata": {
  "kernelspec": {
   "display_name": "Python [conda env:base] *",
   "language": "python",
   "name": "conda-base-py"
  },
  "language_info": {
   "codemirror_mode": {
    "name": "ipython",
    "version": 3
   },
   "file_extension": ".py",
   "mimetype": "text/x-python",
   "name": "python",
   "nbconvert_exporter": "python",
   "pygments_lexer": "ipython3",
   "version": "3.12.2"
  }
 },
 "nbformat": 4,
 "nbformat_minor": 5
}
