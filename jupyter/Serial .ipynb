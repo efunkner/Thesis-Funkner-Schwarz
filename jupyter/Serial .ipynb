{
 "cells": [
  {
   "cell_type": "code",
   "execution_count": 10,
   "id": "8776d5b1-6fc6-4e65-ac81-f7f86deec76e",
   "metadata": {},
   "outputs": [
    {
     "name": "stdout",
     "output_type": "stream",
     "text": [
      "Anzahl der Samples pro Sekunde: 11251\n",
      "Anzahl der Samples pro Sekunde: 11506\n",
      "Anzahl der Samples pro Sekunde: 11496\n",
      "Anzahl der Samples pro Sekunde: 11637\n",
      "Anzahl der Samples pro Sekunde: 11321\n",
      "Anzahl der Samples pro Sekunde: 11443\n",
      "Anzahl der Samples pro Sekunde: 11501\n",
      "Anzahl der Samples pro Sekunde: 11442\n",
      "\n",
      "Stop\n"
     ]
    }
   ],
   "source": [
    "import serial\n",
    "import time\n",
    "\n",
    "PORT = '/dev/ttyUSB0'\n",
    "BAUDRATE = 1000000\n",
    "TIMEOUT = 1\n",
    "\n",
    "ser = serial.Serial(PORT, baudrate=BAUDRATE, timeout=TIMEOUT)\n",
    "\n",
    "sample_count = 0\n",
    "start_time = time.time()\n",
    "\n",
    "try:\n",
    "    while True:\n",
    "        line = ser.readline()\n",
    "        if line:\n",
    "            sample_count += 1\n",
    "        \n",
    "        elapsed = time.time() - start_time\n",
    "        if elapsed >= 1.0:\n",
    "            print(f\"Anzahl der Samples pro Sekunde: {sample_count}\")\n",
    "            sample_count = 0\n",
    "            start_time = time.time()\n",
    "\n",
    "except KeyboardInterrupt:\n",
    "    print(\"\\nStop\")\n",
    "finally:\n",
    "    ser.close()"
   ]
  },
  {
   "cell_type": "code",
   "execution_count": null,
   "id": "ac027411-f728-43e0-95f6-de9e2b671245",
   "metadata": {},
   "outputs": [],
   "source": []
  },
  {
   "cell_type": "code",
   "execution_count": null,
   "id": "cf0fde3f-bf82-4b55-9ffe-a2223b2223f2",
   "metadata": {},
   "outputs": [],
   "source": []
  }
 ],
 "metadata": {
  "kernelspec": {
   "display_name": "Python [conda env:base] *",
   "language": "python",
   "name": "conda-base-py"
  },
  "language_info": {
   "codemirror_mode": {
    "name": "ipython",
    "version": 3
   },
   "file_extension": ".py",
   "mimetype": "text/x-python",
   "name": "python",
   "nbconvert_exporter": "python",
   "pygments_lexer": "ipython3",
   "version": "3.12.2"
  }
 },
 "nbformat": 4,
 "nbformat_minor": 5
}
